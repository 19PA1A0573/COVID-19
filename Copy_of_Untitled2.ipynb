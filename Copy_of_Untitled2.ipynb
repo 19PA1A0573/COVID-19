{
  "nbformat": 4,
  "nbformat_minor": 0,
  "metadata": {
    "colab": {
      "name": "Copy of Copy of Untitled2.ipynb",
      "provenance": [],
      "toc_visible": true,
      "include_colab_link": true
    },
    "kernelspec": {
      "name": "python3",
      "display_name": "Python 3"
    }
  },
  "cells": [
    {
      "cell_type": "markdown",
      "metadata": {
        "id": "view-in-github",
        "colab_type": "text"
      },
      "source": [
        "<a href=\"https://colab.research.google.com/github/19PA1A0573/COVID-19/blob/master/Copy_of_Untitled2.ipynb\" target=\"_parent\"><img src=\"https://colab.research.google.com/assets/colab-badge.svg\" alt=\"Open In Colab\"/></a>"
      ]
    },
    {
      "cell_type": "markdown",
      "metadata": {
        "id": "NthGZpIGLaXr",
        "colab_type": "text"
      },
      "source": [
        "\n",
        "\n",
        "---\n",
        "\n",
        "# TEAM MEMBERS:\n",
        "\n",
        "\n",
        "1.   **Reema sharon**  -19PA1A0573\n",
        "2.   **Lakshmi Durga**  -19PA1A05C4\n",
        "1.   **Prasanna**  -19PA1A05C5\n",
        "2.   **Rohit Surya**  -19PA1A05B4\n",
        "\n",
        "\n"
      ]
    },
    {
      "cell_type": "markdown",
      "metadata": {
        "id": "4gJW1CLGMN2j",
        "colab_type": "text"
      },
      "source": [
        "# **Importing the required modules**"
      ]
    },
    {
      "cell_type": "code",
      "metadata": {
        "id": "JOPcMAL8BBXp",
        "colab_type": "code",
        "colab": {}
      },
      "source": [
        "import numpy as np\n",
        "import pandas as pd\n",
        "import matplotlib.pyplot as plt\n",
        "from sklearn.cluster import KMeans\n",
        "%matplotlib inline"
      ],
      "execution_count": 0,
      "outputs": []
    },
    {
      "cell_type": "markdown",
      "metadata": {
        "id": "mPhZfBT-MXKc",
        "colab_type": "text"
      },
      "source": [
        "# **Forming dataframes of single day and concating them to a single dataframe.**"
      ]
    },
    {
      "cell_type": "code",
      "metadata": {
        "id": "6NlRJqOgB6Ay",
        "colab_type": "code",
        "outputId": "4275db31-3034-431f-f7dc-60f27826a82f",
        "colab": {
          "base_uri": "https://localhost:8080/",
          "height": 606
        }
      },
      "source": [
        "d1=pd.read_csv(\"01-22-2020.csv\")\n",
        "d2=pd.read_csv(\"01-23-2020.csv\")\n",
        "d3=pd.read_csv(\"01-24-2020.csv\")\n",
        "d4=pd.read_csv(\"01-25-2020.csv\")\n",
        "d5=pd.read_csv(\"01-26-2020.csv\")\n",
        "d6=pd.read_csv(\"01-27-2020.csv\")\n",
        "d7=pd.read_csv(\"01-28-2020.csv\")\n",
        "d8=pd.read_csv(\"01-29-2020.csv\")\n",
        "d9=pd.read_csv(\"01-30-2020.csv\")\n",
        "d10=pd.read_csv(\"01-31-2020.csv\")\n",
        "d11=pd.read_csv(\"02-01-2020.csv\")\n",
        "d12=pd.read_csv(\"02-02-2020.csv\")\n",
        "d13=pd.read_csv(\"02-03-2020.csv\")\n",
        "d14=pd.read_csv(\"02-04-2020.csv\")\n",
        "d15=pd.read_csv(\"02-05-2020.csv\")\n",
        "d16=pd.read_csv(\"02-06-2020.csv\")\n",
        "d17=pd.read_csv(\"02-07-2020.csv\")\n",
        "d18=pd.read_csv(\"02-08-2020.csv\")\n",
        "d19=pd.read_csv(\"02-09-2020.csv\")\n",
        "d20=pd.read_csv(\"02-10-2020.csv\")\n",
        "d21=pd.read_csv(\"02-11-2020.csv\")\n",
        "d22=pd.read_csv(\"02-12-2020.csv\")\n",
        "d23=pd.read_csv(\"02-13-2020.csv\")\n",
        "d24=pd.read_csv(\"02-14-2020.csv\")\n",
        "d25=pd.read_csv(\"02-15-2020.csv\")\n",
        "d26=pd.read_csv(\"02-16-2020.csv\")\n",
        "d27=pd.read_csv(\"02-17-2020.csv\")\n",
        "d28=pd.read_csv(\"02-18-2020.csv\")\n",
        "d29=pd.read_csv(\"02-19-2020.csv\")\n",
        "d30=pd.read_csv(\"02-20-2020.csv\")\n",
        "d31=pd.read_csv(\"02-21-2020.csv\")\n",
        "d32=pd.read_csv(\"02-22-2020.csv\")\n",
        "d33=pd.read_csv(\"02-23-2020.csv\")\n",
        "d34=pd.read_csv(\"02-24-2020.csv\")\n",
        "d35=pd.read_csv(\"02-25-2020.csv\")\n",
        "d36=pd.read_csv(\"02-26-2020.csv\")\n",
        "d37=pd.read_csv(\"02-27-2020.csv\")\n",
        "d38=pd.read_csv(\"02-28-2020.csv\")\n",
        "d39=pd.read_csv(\"02-29-2020.csv\")\n",
        "d40=pd.read_csv(\"03-01-2020.csv\")\n",
        "d41=pd.read_csv(\"03-02-2020.csv\")\n",
        "d42=pd.read_csv(\"03-03-2020.csv\")\n",
        "d43=pd.read_csv(\"03-04-2020.csv\")\n",
        "d44=pd.read_csv(\"03-05-2020.csv\")\n",
        "d45=pd.read_csv(\"03-06-2020.csv\")\n",
        "d46=pd.read_csv(\"03-07-2020.csv\")\n",
        "d47=pd.read_csv(\"03-08-2020.csv\")\n",
        "d48=pd.read_csv(\"03-09-2020.csv\")\n",
        "d49=pd.read_csv(\"03-10-2020.csv\")\n",
        "d50=pd.read_csv(\"03-11-2020.csv\")\n",
        "d51=pd.read_csv(\"03-12-2020.csv\")\n",
        "d52=pd.read_csv(\"03-13-2020.csv\")\n",
        "d53=pd.read_csv(\"03-14-2020.csv\")\n",
        "d54=pd.read_csv(\"03-15-2020.csv\")\n",
        "d55=pd.read_csv(\"03-16-2020.csv\")\n",
        "d56=pd.read_csv(\"03-17-2020.csv\")\n",
        "d57=pd.read_csv(\"03-18-2020.csv\")\n",
        "d58=pd.read_csv(\"03-19-2020.csv\")\n",
        "d59=pd.read_csv(\"03-20-2020.csv\")\n",
        "d60=pd.read_csv(\"03-21-2020.csv\")\n",
        "d61=pd.read_csv(\"03-22-2020.csv\")\n",
        "d62=pd.read_csv(\"03-23-2020.csv\")\n",
        "d63=pd.read_csv(\"03-24-2020.csv\")\n",
        "d64=pd.read_csv(\"03-25-2020.csv\")\n",
        "d65=pd.read_csv(\"03-26-2020.csv\")\n",
        "\n",
        "frame=[d1,d2,d3,d4,d5,d6,d7,d8,d9,d10,d11,d12,d13,d14,d15,d16,d17,d18,d19,d20,d21,d22,d23,d24,d25,d26,d27,d28,d29,d30,d31,d32,d33,d34,d35,d36,d37,d38,d39,d40,d41,d42,d43,d44,d45,d46,d47,d48,d49,d50,d51,d52,d53,d54,d56,d57,d58,d59,d60,d61,d62,d63,d64,d65]\n",
        "covid=pd.concat(frame)\n",
        "covid\n"
      ],
      "execution_count": 2,
      "outputs": [
        {
          "output_type": "execute_result",
          "data": {
            "text/html": [
              "<div>\n",
              "<style scoped>\n",
              "    .dataframe tbody tr th:only-of-type {\n",
              "        vertical-align: middle;\n",
              "    }\n",
              "\n",
              "    .dataframe tbody tr th {\n",
              "        vertical-align: top;\n",
              "    }\n",
              "\n",
              "    .dataframe thead th {\n",
              "        text-align: right;\n",
              "    }\n",
              "</style>\n",
              "<table border=\"1\" class=\"dataframe\">\n",
              "  <thead>\n",
              "    <tr style=\"text-align: right;\">\n",
              "      <th></th>\n",
              "      <th>Province/State</th>\n",
              "      <th>Country/Region</th>\n",
              "      <th>Last Update</th>\n",
              "      <th>Confirmed</th>\n",
              "      <th>Deaths</th>\n",
              "      <th>Recovered</th>\n",
              "      <th>Latitude</th>\n",
              "      <th>Longitude</th>\n",
              "      <th>FIPS</th>\n",
              "      <th>Admin2</th>\n",
              "      <th>Province_State</th>\n",
              "      <th>Country_Region</th>\n",
              "      <th>Last_Update</th>\n",
              "      <th>Lat</th>\n",
              "      <th>Long_</th>\n",
              "      <th>Active</th>\n",
              "      <th>Combined_Key</th>\n",
              "    </tr>\n",
              "  </thead>\n",
              "  <tbody>\n",
              "    <tr>\n",
              "      <th>0</th>\n",
              "      <td>Anhui</td>\n",
              "      <td>Mainland China</td>\n",
              "      <td>1/22/2020 17:00</td>\n",
              "      <td>1.0</td>\n",
              "      <td>NaN</td>\n",
              "      <td>NaN</td>\n",
              "      <td>NaN</td>\n",
              "      <td>NaN</td>\n",
              "      <td>NaN</td>\n",
              "      <td>NaN</td>\n",
              "      <td>NaN</td>\n",
              "      <td>NaN</td>\n",
              "      <td>NaN</td>\n",
              "      <td>NaN</td>\n",
              "      <td>NaN</td>\n",
              "      <td>NaN</td>\n",
              "      <td>NaN</td>\n",
              "    </tr>\n",
              "    <tr>\n",
              "      <th>1</th>\n",
              "      <td>Beijing</td>\n",
              "      <td>Mainland China</td>\n",
              "      <td>1/22/2020 17:00</td>\n",
              "      <td>14.0</td>\n",
              "      <td>NaN</td>\n",
              "      <td>NaN</td>\n",
              "      <td>NaN</td>\n",
              "      <td>NaN</td>\n",
              "      <td>NaN</td>\n",
              "      <td>NaN</td>\n",
              "      <td>NaN</td>\n",
              "      <td>NaN</td>\n",
              "      <td>NaN</td>\n",
              "      <td>NaN</td>\n",
              "      <td>NaN</td>\n",
              "      <td>NaN</td>\n",
              "      <td>NaN</td>\n",
              "    </tr>\n",
              "    <tr>\n",
              "      <th>2</th>\n",
              "      <td>Chongqing</td>\n",
              "      <td>Mainland China</td>\n",
              "      <td>1/22/2020 17:00</td>\n",
              "      <td>6.0</td>\n",
              "      <td>NaN</td>\n",
              "      <td>NaN</td>\n",
              "      <td>NaN</td>\n",
              "      <td>NaN</td>\n",
              "      <td>NaN</td>\n",
              "      <td>NaN</td>\n",
              "      <td>NaN</td>\n",
              "      <td>NaN</td>\n",
              "      <td>NaN</td>\n",
              "      <td>NaN</td>\n",
              "      <td>NaN</td>\n",
              "      <td>NaN</td>\n",
              "      <td>NaN</td>\n",
              "    </tr>\n",
              "    <tr>\n",
              "      <th>3</th>\n",
              "      <td>Fujian</td>\n",
              "      <td>Mainland China</td>\n",
              "      <td>1/22/2020 17:00</td>\n",
              "      <td>1.0</td>\n",
              "      <td>NaN</td>\n",
              "      <td>NaN</td>\n",
              "      <td>NaN</td>\n",
              "      <td>NaN</td>\n",
              "      <td>NaN</td>\n",
              "      <td>NaN</td>\n",
              "      <td>NaN</td>\n",
              "      <td>NaN</td>\n",
              "      <td>NaN</td>\n",
              "      <td>NaN</td>\n",
              "      <td>NaN</td>\n",
              "      <td>NaN</td>\n",
              "      <td>NaN</td>\n",
              "    </tr>\n",
              "    <tr>\n",
              "      <th>4</th>\n",
              "      <td>Gansu</td>\n",
              "      <td>Mainland China</td>\n",
              "      <td>1/22/2020 17:00</td>\n",
              "      <td>NaN</td>\n",
              "      <td>NaN</td>\n",
              "      <td>NaN</td>\n",
              "      <td>NaN</td>\n",
              "      <td>NaN</td>\n",
              "      <td>NaN</td>\n",
              "      <td>NaN</td>\n",
              "      <td>NaN</td>\n",
              "      <td>NaN</td>\n",
              "      <td>NaN</td>\n",
              "      <td>NaN</td>\n",
              "      <td>NaN</td>\n",
              "      <td>NaN</td>\n",
              "      <td>NaN</td>\n",
              "    </tr>\n",
              "    <tr>\n",
              "      <th>...</th>\n",
              "      <td>...</td>\n",
              "      <td>...</td>\n",
              "      <td>...</td>\n",
              "      <td>...</td>\n",
              "      <td>...</td>\n",
              "      <td>...</td>\n",
              "      <td>...</td>\n",
              "      <td>...</td>\n",
              "      <td>...</td>\n",
              "      <td>...</td>\n",
              "      <td>...</td>\n",
              "      <td>...</td>\n",
              "      <td>...</td>\n",
              "      <td>...</td>\n",
              "      <td>...</td>\n",
              "      <td>...</td>\n",
              "      <td>...</td>\n",
              "    </tr>\n",
              "    <tr>\n",
              "      <th>3416</th>\n",
              "      <td>NaN</td>\n",
              "      <td>NaN</td>\n",
              "      <td>NaN</td>\n",
              "      <td>107.0</td>\n",
              "      <td>0.0</td>\n",
              "      <td>15.0</td>\n",
              "      <td>NaN</td>\n",
              "      <td>NaN</td>\n",
              "      <td>NaN</td>\n",
              "      <td>NaN</td>\n",
              "      <td>NaN</td>\n",
              "      <td>Venezuela</td>\n",
              "      <td>2020-03-26 23:48:18</td>\n",
              "      <td>6.423800</td>\n",
              "      <td>-66.589700</td>\n",
              "      <td>92.0</td>\n",
              "      <td>Venezuela</td>\n",
              "    </tr>\n",
              "    <tr>\n",
              "      <th>3417</th>\n",
              "      <td>NaN</td>\n",
              "      <td>NaN</td>\n",
              "      <td>NaN</td>\n",
              "      <td>153.0</td>\n",
              "      <td>0.0</td>\n",
              "      <td>20.0</td>\n",
              "      <td>NaN</td>\n",
              "      <td>NaN</td>\n",
              "      <td>NaN</td>\n",
              "      <td>NaN</td>\n",
              "      <td>NaN</td>\n",
              "      <td>Vietnam</td>\n",
              "      <td>2020-03-26 23:48:18</td>\n",
              "      <td>14.058324</td>\n",
              "      <td>108.277199</td>\n",
              "      <td>133.0</td>\n",
              "      <td>Vietnam</td>\n",
              "    </tr>\n",
              "    <tr>\n",
              "      <th>3418</th>\n",
              "      <td>NaN</td>\n",
              "      <td>NaN</td>\n",
              "      <td>NaN</td>\n",
              "      <td>84.0</td>\n",
              "      <td>1.0</td>\n",
              "      <td>17.0</td>\n",
              "      <td>NaN</td>\n",
              "      <td>NaN</td>\n",
              "      <td>NaN</td>\n",
              "      <td>NaN</td>\n",
              "      <td>NaN</td>\n",
              "      <td>West Bank and Gaza</td>\n",
              "      <td>2020-03-26 23:48:18</td>\n",
              "      <td>31.952200</td>\n",
              "      <td>35.233200</td>\n",
              "      <td>66.0</td>\n",
              "      <td>West Bank and Gaza</td>\n",
              "    </tr>\n",
              "    <tr>\n",
              "      <th>3419</th>\n",
              "      <td>NaN</td>\n",
              "      <td>NaN</td>\n",
              "      <td>NaN</td>\n",
              "      <td>16.0</td>\n",
              "      <td>0.0</td>\n",
              "      <td>0.0</td>\n",
              "      <td>NaN</td>\n",
              "      <td>NaN</td>\n",
              "      <td>NaN</td>\n",
              "      <td>NaN</td>\n",
              "      <td>NaN</td>\n",
              "      <td>Zambia</td>\n",
              "      <td>2020-03-26 23:48:18</td>\n",
              "      <td>-13.133897</td>\n",
              "      <td>27.849332</td>\n",
              "      <td>16.0</td>\n",
              "      <td>Zambia</td>\n",
              "    </tr>\n",
              "    <tr>\n",
              "      <th>3420</th>\n",
              "      <td>NaN</td>\n",
              "      <td>NaN</td>\n",
              "      <td>NaN</td>\n",
              "      <td>3.0</td>\n",
              "      <td>1.0</td>\n",
              "      <td>0.0</td>\n",
              "      <td>NaN</td>\n",
              "      <td>NaN</td>\n",
              "      <td>NaN</td>\n",
              "      <td>NaN</td>\n",
              "      <td>NaN</td>\n",
              "      <td>Zimbabwe</td>\n",
              "      <td>2020-03-26 23:48:18</td>\n",
              "      <td>-19.015438</td>\n",
              "      <td>29.154857</td>\n",
              "      <td>2.0</td>\n",
              "      <td>Zimbabwe</td>\n",
              "    </tr>\n",
              "  </tbody>\n",
              "</table>\n",
              "<p>24435 rows × 17 columns</p>\n",
              "</div>"
            ],
            "text/plain": [
              "     Province/State  Country/Region  ... Active        Combined_Key\n",
              "0             Anhui  Mainland China  ...    NaN                 NaN\n",
              "1           Beijing  Mainland China  ...    NaN                 NaN\n",
              "2         Chongqing  Mainland China  ...    NaN                 NaN\n",
              "3            Fujian  Mainland China  ...    NaN                 NaN\n",
              "4             Gansu  Mainland China  ...    NaN                 NaN\n",
              "...             ...             ...  ...    ...                 ...\n",
              "3416            NaN             NaN  ...   92.0           Venezuela\n",
              "3417            NaN             NaN  ...  133.0             Vietnam\n",
              "3418            NaN             NaN  ...   66.0  West Bank and Gaza\n",
              "3419            NaN             NaN  ...   16.0              Zambia\n",
              "3420            NaN             NaN  ...    2.0            Zimbabwe\n",
              "\n",
              "[24435 rows x 17 columns]"
            ]
          },
          "metadata": {
            "tags": []
          },
          "execution_count": 2
        }
      ]
    },
    {
      "cell_type": "code",
      "metadata": {
        "id": "xy-1AwRCCcSg",
        "colab_type": "code",
        "outputId": "2a10618f-f6c2-4203-c5e4-6caf03d8e03f",
        "colab": {
          "base_uri": "https://localhost:8080/",
          "height": 606
        }
      },
      "source": [
        "covid[\"Longitude\"]=covid[\"Long_\"]\n",
        "covid[\"Latitude\"]=covid[\"Lat\"]\n",
        "covid[\"Province/State\"]=covid[\"Province_State\"]\n",
        "covid[\"Last Update\"]=covid[\"Last_Update\"]\n",
        "covid[\"Country/Region\"]=covid[\"Country_Region\"]\n",
        "covid\n"
      ],
      "execution_count": 3,
      "outputs": [
        {
          "output_type": "execute_result",
          "data": {
            "text/html": [
              "<div>\n",
              "<style scoped>\n",
              "    .dataframe tbody tr th:only-of-type {\n",
              "        vertical-align: middle;\n",
              "    }\n",
              "\n",
              "    .dataframe tbody tr th {\n",
              "        vertical-align: top;\n",
              "    }\n",
              "\n",
              "    .dataframe thead th {\n",
              "        text-align: right;\n",
              "    }\n",
              "</style>\n",
              "<table border=\"1\" class=\"dataframe\">\n",
              "  <thead>\n",
              "    <tr style=\"text-align: right;\">\n",
              "      <th></th>\n",
              "      <th>Province/State</th>\n",
              "      <th>Country/Region</th>\n",
              "      <th>Last Update</th>\n",
              "      <th>Confirmed</th>\n",
              "      <th>Deaths</th>\n",
              "      <th>Recovered</th>\n",
              "      <th>Latitude</th>\n",
              "      <th>Longitude</th>\n",
              "      <th>FIPS</th>\n",
              "      <th>Admin2</th>\n",
              "      <th>Province_State</th>\n",
              "      <th>Country_Region</th>\n",
              "      <th>Last_Update</th>\n",
              "      <th>Lat</th>\n",
              "      <th>Long_</th>\n",
              "      <th>Active</th>\n",
              "      <th>Combined_Key</th>\n",
              "    </tr>\n",
              "  </thead>\n",
              "  <tbody>\n",
              "    <tr>\n",
              "      <th>0</th>\n",
              "      <td>NaN</td>\n",
              "      <td>NaN</td>\n",
              "      <td>NaN</td>\n",
              "      <td>1.0</td>\n",
              "      <td>NaN</td>\n",
              "      <td>NaN</td>\n",
              "      <td>NaN</td>\n",
              "      <td>NaN</td>\n",
              "      <td>NaN</td>\n",
              "      <td>NaN</td>\n",
              "      <td>NaN</td>\n",
              "      <td>NaN</td>\n",
              "      <td>NaN</td>\n",
              "      <td>NaN</td>\n",
              "      <td>NaN</td>\n",
              "      <td>NaN</td>\n",
              "      <td>NaN</td>\n",
              "    </tr>\n",
              "    <tr>\n",
              "      <th>1</th>\n",
              "      <td>NaN</td>\n",
              "      <td>NaN</td>\n",
              "      <td>NaN</td>\n",
              "      <td>14.0</td>\n",
              "      <td>NaN</td>\n",
              "      <td>NaN</td>\n",
              "      <td>NaN</td>\n",
              "      <td>NaN</td>\n",
              "      <td>NaN</td>\n",
              "      <td>NaN</td>\n",
              "      <td>NaN</td>\n",
              "      <td>NaN</td>\n",
              "      <td>NaN</td>\n",
              "      <td>NaN</td>\n",
              "      <td>NaN</td>\n",
              "      <td>NaN</td>\n",
              "      <td>NaN</td>\n",
              "    </tr>\n",
              "    <tr>\n",
              "      <th>2</th>\n",
              "      <td>NaN</td>\n",
              "      <td>NaN</td>\n",
              "      <td>NaN</td>\n",
              "      <td>6.0</td>\n",
              "      <td>NaN</td>\n",
              "      <td>NaN</td>\n",
              "      <td>NaN</td>\n",
              "      <td>NaN</td>\n",
              "      <td>NaN</td>\n",
              "      <td>NaN</td>\n",
              "      <td>NaN</td>\n",
              "      <td>NaN</td>\n",
              "      <td>NaN</td>\n",
              "      <td>NaN</td>\n",
              "      <td>NaN</td>\n",
              "      <td>NaN</td>\n",
              "      <td>NaN</td>\n",
              "    </tr>\n",
              "    <tr>\n",
              "      <th>3</th>\n",
              "      <td>NaN</td>\n",
              "      <td>NaN</td>\n",
              "      <td>NaN</td>\n",
              "      <td>1.0</td>\n",
              "      <td>NaN</td>\n",
              "      <td>NaN</td>\n",
              "      <td>NaN</td>\n",
              "      <td>NaN</td>\n",
              "      <td>NaN</td>\n",
              "      <td>NaN</td>\n",
              "      <td>NaN</td>\n",
              "      <td>NaN</td>\n",
              "      <td>NaN</td>\n",
              "      <td>NaN</td>\n",
              "      <td>NaN</td>\n",
              "      <td>NaN</td>\n",
              "      <td>NaN</td>\n",
              "    </tr>\n",
              "    <tr>\n",
              "      <th>4</th>\n",
              "      <td>NaN</td>\n",
              "      <td>NaN</td>\n",
              "      <td>NaN</td>\n",
              "      <td>NaN</td>\n",
              "      <td>NaN</td>\n",
              "      <td>NaN</td>\n",
              "      <td>NaN</td>\n",
              "      <td>NaN</td>\n",
              "      <td>NaN</td>\n",
              "      <td>NaN</td>\n",
              "      <td>NaN</td>\n",
              "      <td>NaN</td>\n",
              "      <td>NaN</td>\n",
              "      <td>NaN</td>\n",
              "      <td>NaN</td>\n",
              "      <td>NaN</td>\n",
              "      <td>NaN</td>\n",
              "    </tr>\n",
              "    <tr>\n",
              "      <th>...</th>\n",
              "      <td>...</td>\n",
              "      <td>...</td>\n",
              "      <td>...</td>\n",
              "      <td>...</td>\n",
              "      <td>...</td>\n",
              "      <td>...</td>\n",
              "      <td>...</td>\n",
              "      <td>...</td>\n",
              "      <td>...</td>\n",
              "      <td>...</td>\n",
              "      <td>...</td>\n",
              "      <td>...</td>\n",
              "      <td>...</td>\n",
              "      <td>...</td>\n",
              "      <td>...</td>\n",
              "      <td>...</td>\n",
              "      <td>...</td>\n",
              "    </tr>\n",
              "    <tr>\n",
              "      <th>3416</th>\n",
              "      <td>NaN</td>\n",
              "      <td>Venezuela</td>\n",
              "      <td>2020-03-26 23:48:18</td>\n",
              "      <td>107.0</td>\n",
              "      <td>0.0</td>\n",
              "      <td>15.0</td>\n",
              "      <td>6.423800</td>\n",
              "      <td>-66.589700</td>\n",
              "      <td>NaN</td>\n",
              "      <td>NaN</td>\n",
              "      <td>NaN</td>\n",
              "      <td>Venezuela</td>\n",
              "      <td>2020-03-26 23:48:18</td>\n",
              "      <td>6.423800</td>\n",
              "      <td>-66.589700</td>\n",
              "      <td>92.0</td>\n",
              "      <td>Venezuela</td>\n",
              "    </tr>\n",
              "    <tr>\n",
              "      <th>3417</th>\n",
              "      <td>NaN</td>\n",
              "      <td>Vietnam</td>\n",
              "      <td>2020-03-26 23:48:18</td>\n",
              "      <td>153.0</td>\n",
              "      <td>0.0</td>\n",
              "      <td>20.0</td>\n",
              "      <td>14.058324</td>\n",
              "      <td>108.277199</td>\n",
              "      <td>NaN</td>\n",
              "      <td>NaN</td>\n",
              "      <td>NaN</td>\n",
              "      <td>Vietnam</td>\n",
              "      <td>2020-03-26 23:48:18</td>\n",
              "      <td>14.058324</td>\n",
              "      <td>108.277199</td>\n",
              "      <td>133.0</td>\n",
              "      <td>Vietnam</td>\n",
              "    </tr>\n",
              "    <tr>\n",
              "      <th>3418</th>\n",
              "      <td>NaN</td>\n",
              "      <td>West Bank and Gaza</td>\n",
              "      <td>2020-03-26 23:48:18</td>\n",
              "      <td>84.0</td>\n",
              "      <td>1.0</td>\n",
              "      <td>17.0</td>\n",
              "      <td>31.952200</td>\n",
              "      <td>35.233200</td>\n",
              "      <td>NaN</td>\n",
              "      <td>NaN</td>\n",
              "      <td>NaN</td>\n",
              "      <td>West Bank and Gaza</td>\n",
              "      <td>2020-03-26 23:48:18</td>\n",
              "      <td>31.952200</td>\n",
              "      <td>35.233200</td>\n",
              "      <td>66.0</td>\n",
              "      <td>West Bank and Gaza</td>\n",
              "    </tr>\n",
              "    <tr>\n",
              "      <th>3419</th>\n",
              "      <td>NaN</td>\n",
              "      <td>Zambia</td>\n",
              "      <td>2020-03-26 23:48:18</td>\n",
              "      <td>16.0</td>\n",
              "      <td>0.0</td>\n",
              "      <td>0.0</td>\n",
              "      <td>-13.133897</td>\n",
              "      <td>27.849332</td>\n",
              "      <td>NaN</td>\n",
              "      <td>NaN</td>\n",
              "      <td>NaN</td>\n",
              "      <td>Zambia</td>\n",
              "      <td>2020-03-26 23:48:18</td>\n",
              "      <td>-13.133897</td>\n",
              "      <td>27.849332</td>\n",
              "      <td>16.0</td>\n",
              "      <td>Zambia</td>\n",
              "    </tr>\n",
              "    <tr>\n",
              "      <th>3420</th>\n",
              "      <td>NaN</td>\n",
              "      <td>Zimbabwe</td>\n",
              "      <td>2020-03-26 23:48:18</td>\n",
              "      <td>3.0</td>\n",
              "      <td>1.0</td>\n",
              "      <td>0.0</td>\n",
              "      <td>-19.015438</td>\n",
              "      <td>29.154857</td>\n",
              "      <td>NaN</td>\n",
              "      <td>NaN</td>\n",
              "      <td>NaN</td>\n",
              "      <td>Zimbabwe</td>\n",
              "      <td>2020-03-26 23:48:18</td>\n",
              "      <td>-19.015438</td>\n",
              "      <td>29.154857</td>\n",
              "      <td>2.0</td>\n",
              "      <td>Zimbabwe</td>\n",
              "    </tr>\n",
              "  </tbody>\n",
              "</table>\n",
              "<p>24435 rows × 17 columns</p>\n",
              "</div>"
            ],
            "text/plain": [
              "     Province/State      Country/Region  ... Active        Combined_Key\n",
              "0               NaN                 NaN  ...    NaN                 NaN\n",
              "1               NaN                 NaN  ...    NaN                 NaN\n",
              "2               NaN                 NaN  ...    NaN                 NaN\n",
              "3               NaN                 NaN  ...    NaN                 NaN\n",
              "4               NaN                 NaN  ...    NaN                 NaN\n",
              "...             ...                 ...  ...    ...                 ...\n",
              "3416            NaN           Venezuela  ...   92.0           Venezuela\n",
              "3417            NaN             Vietnam  ...  133.0             Vietnam\n",
              "3418            NaN  West Bank and Gaza  ...   66.0  West Bank and Gaza\n",
              "3419            NaN              Zambia  ...   16.0              Zambia\n",
              "3420            NaN            Zimbabwe  ...    2.0            Zimbabwe\n",
              "\n",
              "[24435 rows x 17 columns]"
            ]
          },
          "metadata": {
            "tags": []
          },
          "execution_count": 3
        }
      ]
    },
    {
      "cell_type": "markdown",
      "metadata": {
        "id": "-ojXEHYzMqxG",
        "colab_type": "text"
      },
      "source": [
        "# **Cleaning the data**"
      ]
    },
    {
      "cell_type": "code",
      "metadata": {
        "id": "otPzPAhoylgZ",
        "colab_type": "code",
        "colab": {}
      },
      "source": [
        "covid[\"Confirmed\"].fillna(covid[\"Confirmed\"].mean(),inplace=True) \n",
        "covid[\"Deaths\"].fillna(covid[\"Deaths\"].mean(),inplace=True)\n",
        "covid[\"Recovered\"].fillna(covid[\"Recovered\"].mean(),inplace=True)\n",
        "covid[\"Province/State\"].fillna(covid[\"Province/State\"].mode()[0],inplace=True)\n",
        "covid[\"Latitude\"].fillna(covid[\"Latitude\"].mean(),inplace=True)\n",
        "covid[\"Longitude\"].fillna(covid[\"Longitude\"].mean(),inplace=True)"
      ],
      "execution_count": 0,
      "outputs": []
    },
    {
      "cell_type": "code",
      "metadata": {
        "id": "Mk-A6E8EFml3",
        "colab_type": "code",
        "colab": {}
      },
      "source": [
        "covid=covid.drop([\"Active\",\"Admin2\",\"Combined_Key\",\"Country_Region\",\"FIPS\",\"Last_Update\",\"Lat\",\"Long_\",\"Province_State\"],axis=1)"
      ],
      "execution_count": 0,
      "outputs": []
    },
    {
      "cell_type": "code",
      "metadata": {
        "id": "sH-xQXkYylc4",
        "colab_type": "code",
        "outputId": "67fe70c0-0d6c-4495-880c-50e664d99886",
        "colab": {
          "base_uri": "https://localhost:8080/",
          "height": 269
        }
      },
      "source": [
        "covid.info()"
      ],
      "execution_count": 6,
      "outputs": [
        {
          "output_type": "stream",
          "text": [
            "<class 'pandas.core.frame.DataFrame'>\n",
            "Int64Index: 24435 entries, 0 to 3420\n",
            "Data columns (total 8 columns):\n",
            " #   Column          Non-Null Count  Dtype  \n",
            "---  ------          --------------  -----  \n",
            " 0   Province/State  24435 non-null  object \n",
            " 1   Country/Region  17090 non-null  object \n",
            " 2   Last Update     17090 non-null  object \n",
            " 3   Confirmed       24435 non-null  float64\n",
            " 4   Deaths          24435 non-null  float64\n",
            " 5   Recovered       24435 non-null  float64\n",
            " 6   Latitude        24435 non-null  float64\n",
            " 7   Longitude       24435 non-null  float64\n",
            "dtypes: float64(5), object(3)\n",
            "memory usage: 1.7+ MB\n"
          ],
          "name": "stdout"
        }
      ]
    },
    {
      "cell_type": "markdown",
      "metadata": {
        "id": "tIh3p9saMzmA",
        "colab_type": "text"
      },
      "source": [
        "# **Forming dataframe contributing each row to each city.**"
      ]
    },
    {
      "cell_type": "code",
      "metadata": {
        "id": "Fwgx1PeAEuRl",
        "colab_type": "code",
        "outputId": "525a685e-f83a-45a4-dc54-3e27799b011e",
        "colab": {
          "base_uri": "https://localhost:8080/",
          "height": 402
        }
      },
      "source": [
        "covid19=covid.iloc[:,[6,7,0,3,5,4]]\n",
        "covid19"
      ],
      "execution_count": 7,
      "outputs": [
        {
          "output_type": "execute_result",
          "data": {
            "text/html": [
              "<div>\n",
              "<style scoped>\n",
              "    .dataframe tbody tr th:only-of-type {\n",
              "        vertical-align: middle;\n",
              "    }\n",
              "\n",
              "    .dataframe tbody tr th {\n",
              "        vertical-align: top;\n",
              "    }\n",
              "\n",
              "    .dataframe thead th {\n",
              "        text-align: right;\n",
              "    }\n",
              "</style>\n",
              "<table border=\"1\" class=\"dataframe\">\n",
              "  <thead>\n",
              "    <tr style=\"text-align: right;\">\n",
              "      <th></th>\n",
              "      <th>Latitude</th>\n",
              "      <th>Longitude</th>\n",
              "      <th>Province/State</th>\n",
              "      <th>Confirmed</th>\n",
              "      <th>Recovered</th>\n",
              "      <th>Deaths</th>\n",
              "    </tr>\n",
              "  </thead>\n",
              "  <tbody>\n",
              "    <tr>\n",
              "      <th>0</th>\n",
              "      <td>36.968913</td>\n",
              "      <td>-83.206437</td>\n",
              "      <td>Texas</td>\n",
              "      <td>1.000000</td>\n",
              "      <td>93.535368</td>\n",
              "      <td>10.643077</td>\n",
              "    </tr>\n",
              "    <tr>\n",
              "      <th>1</th>\n",
              "      <td>36.968913</td>\n",
              "      <td>-83.206437</td>\n",
              "      <td>Texas</td>\n",
              "      <td>14.000000</td>\n",
              "      <td>93.535368</td>\n",
              "      <td>10.643077</td>\n",
              "    </tr>\n",
              "    <tr>\n",
              "      <th>2</th>\n",
              "      <td>36.968913</td>\n",
              "      <td>-83.206437</td>\n",
              "      <td>Texas</td>\n",
              "      <td>6.000000</td>\n",
              "      <td>93.535368</td>\n",
              "      <td>10.643077</td>\n",
              "    </tr>\n",
              "    <tr>\n",
              "      <th>3</th>\n",
              "      <td>36.968913</td>\n",
              "      <td>-83.206437</td>\n",
              "      <td>Texas</td>\n",
              "      <td>1.000000</td>\n",
              "      <td>93.535368</td>\n",
              "      <td>10.643077</td>\n",
              "    </tr>\n",
              "    <tr>\n",
              "      <th>4</th>\n",
              "      <td>36.968913</td>\n",
              "      <td>-83.206437</td>\n",
              "      <td>Texas</td>\n",
              "      <td>278.897403</td>\n",
              "      <td>93.535368</td>\n",
              "      <td>10.643077</td>\n",
              "    </tr>\n",
              "    <tr>\n",
              "      <th>...</th>\n",
              "      <td>...</td>\n",
              "      <td>...</td>\n",
              "      <td>...</td>\n",
              "      <td>...</td>\n",
              "      <td>...</td>\n",
              "      <td>...</td>\n",
              "    </tr>\n",
              "    <tr>\n",
              "      <th>3416</th>\n",
              "      <td>6.423800</td>\n",
              "      <td>-66.589700</td>\n",
              "      <td>Texas</td>\n",
              "      <td>107.000000</td>\n",
              "      <td>15.000000</td>\n",
              "      <td>0.000000</td>\n",
              "    </tr>\n",
              "    <tr>\n",
              "      <th>3417</th>\n",
              "      <td>14.058324</td>\n",
              "      <td>108.277199</td>\n",
              "      <td>Texas</td>\n",
              "      <td>153.000000</td>\n",
              "      <td>20.000000</td>\n",
              "      <td>0.000000</td>\n",
              "    </tr>\n",
              "    <tr>\n",
              "      <th>3418</th>\n",
              "      <td>31.952200</td>\n",
              "      <td>35.233200</td>\n",
              "      <td>Texas</td>\n",
              "      <td>84.000000</td>\n",
              "      <td>17.000000</td>\n",
              "      <td>1.000000</td>\n",
              "    </tr>\n",
              "    <tr>\n",
              "      <th>3419</th>\n",
              "      <td>-13.133897</td>\n",
              "      <td>27.849332</td>\n",
              "      <td>Texas</td>\n",
              "      <td>16.000000</td>\n",
              "      <td>0.000000</td>\n",
              "      <td>0.000000</td>\n",
              "    </tr>\n",
              "    <tr>\n",
              "      <th>3420</th>\n",
              "      <td>-19.015438</td>\n",
              "      <td>29.154857</td>\n",
              "      <td>Texas</td>\n",
              "      <td>3.000000</td>\n",
              "      <td>0.000000</td>\n",
              "      <td>1.000000</td>\n",
              "    </tr>\n",
              "  </tbody>\n",
              "</table>\n",
              "<p>24435 rows × 6 columns</p>\n",
              "</div>"
            ],
            "text/plain": [
              "       Latitude   Longitude Province/State   Confirmed  Recovered     Deaths\n",
              "0     36.968913  -83.206437          Texas    1.000000  93.535368  10.643077\n",
              "1     36.968913  -83.206437          Texas   14.000000  93.535368  10.643077\n",
              "2     36.968913  -83.206437          Texas    6.000000  93.535368  10.643077\n",
              "3     36.968913  -83.206437          Texas    1.000000  93.535368  10.643077\n",
              "4     36.968913  -83.206437          Texas  278.897403  93.535368  10.643077\n",
              "...         ...         ...            ...         ...        ...        ...\n",
              "3416   6.423800  -66.589700          Texas  107.000000  15.000000   0.000000\n",
              "3417  14.058324  108.277199          Texas  153.000000  20.000000   0.000000\n",
              "3418  31.952200   35.233200          Texas   84.000000  17.000000   1.000000\n",
              "3419 -13.133897   27.849332          Texas   16.000000   0.000000   0.000000\n",
              "3420 -19.015438   29.154857          Texas    3.000000   0.000000   1.000000\n",
              "\n",
              "[24435 rows x 6 columns]"
            ]
          },
          "metadata": {
            "tags": []
          },
          "execution_count": 7
        }
      ]
    },
    {
      "cell_type": "code",
      "metadata": {
        "id": "MQHskMyo-VO-",
        "colab_type": "code",
        "colab": {}
      },
      "source": [
        "covid19=covid19.drop([\"Province/State\"],axis=1)"
      ],
      "execution_count": 0,
      "outputs": []
    },
    {
      "cell_type": "code",
      "metadata": {
        "id": "CwsQrb_JVC0s",
        "colab_type": "code",
        "outputId": "f83f5149-92c7-47af-83c6-0dfd583dda5d",
        "colab": {
          "base_uri": "https://localhost:8080/",
          "height": 34
        }
      },
      "source": [
        "covid19.columns"
      ],
      "execution_count": 9,
      "outputs": [
        {
          "output_type": "execute_result",
          "data": {
            "text/plain": [
              "Index(['Latitude', 'Longitude', 'Confirmed', 'Recovered', 'Deaths'], dtype='object')"
            ]
          },
          "metadata": {
            "tags": []
          },
          "execution_count": 9
        }
      ]
    },
    {
      "cell_type": "code",
      "metadata": {
        "id": "qsvl2Ci8kUe3",
        "colab_type": "code",
        "outputId": "85915ec9-386a-4b51-f057-361390dead50",
        "colab": {
          "base_uri": "https://localhost:8080/",
          "height": 235
        }
      },
      "source": [
        "x=covid19.iloc[:,0:5].values\n",
        "x"
      ],
      "execution_count": 10,
      "outputs": [
        {
          "output_type": "execute_result",
          "data": {
            "text/plain": [
              "array([[ 36.96891341, -83.20643664,   1.        ,  93.53536824,\n",
              "         10.64307744],\n",
              "       [ 36.96891341, -83.20643664,  14.        ,  93.53536824,\n",
              "         10.64307744],\n",
              "       [ 36.96891341, -83.20643664,   6.        ,  93.53536824,\n",
              "         10.64307744],\n",
              "       ...,\n",
              "       [ 31.9522    ,  35.2332    ,  84.        ,  17.        ,\n",
              "          1.        ],\n",
              "       [-13.133897  ,  27.849332  ,  16.        ,   0.        ,\n",
              "          0.        ],\n",
              "       [-19.015438  ,  29.154857  ,   3.        ,   0.        ,\n",
              "          1.        ]])"
            ]
          },
          "metadata": {
            "tags": []
          },
          "execution_count": 10
        }
      ]
    },
    {
      "cell_type": "code",
      "metadata": {
        "id": "3SCMFgmr_mRd",
        "colab_type": "code",
        "outputId": "4c33a3d7-ccf7-4d13-f3c3-898646c1d985",
        "colab": {
          "base_uri": "https://localhost:8080/",
          "height": 282
        }
      },
      "source": [
        "plt.scatter(x[:,1],x[:,0])"
      ],
      "execution_count": 11,
      "outputs": [
        {
          "output_type": "execute_result",
          "data": {
            "text/plain": [
              "<matplotlib.collections.PathCollection at 0x7f484ae45128>"
            ]
          },
          "metadata": {
            "tags": []
          },
          "execution_count": 11
        },
        {
          "output_type": "display_data",
          "data": {
            "image/png": "[encoded data removed]",
            "text/plain": [
              "<Figure size 432x288 with 1 Axes>"
            ]
          },
          "metadata": {
            "tags": []
          }
        }
      ]
    },
    {
      "cell_type": "code",
      "metadata": {
        "id": "hTAWnQp7c_Zt",
        "colab_type": "code",
        "outputId": "aa4217ae-a628-44d9-a17d-ffe722ade498",
        "colab": {
          "base_uri": "https://localhost:8080/",
          "height": 282
        }
      },
      "source": [
        "plt.scatter(x[:,3],x[:,4])\n"
      ],
      "execution_count": 16,
      "outputs": [
        {
          "output_type": "execute_result",
          "data": {
            "text/plain": [
              "<matplotlib.collections.PathCollection at 0x7f48480651d0>"
            ]
          },
          "metadata": {
            "tags": []
          },
          "execution_count": 16
        },
        {
          "output_type": "display_data",
          "data": {
            "image/png": "[encoded data removed]",
            "text/plain": [
              "<Figure size 432x288 with 1 Axes>"
            ]
          },
          "metadata": {
            "tags": []
          }
        }
      ]
    },
    {
      "cell_type": "markdown",
      "metadata": {
        "id": "umvprrs7NVUy",
        "colab_type": "text"
      },
      "source": [
        "# **Finding optimal value of cluster through elbow method.**"
      ]
    },
    {
      "cell_type": "code",
      "metadata": {
        "id": "SnkULMTmRAa6",
        "colab_type": "code",
        "outputId": "7787bcf4-7e02-4001-b284-9bafc52be635",
        "colab": {
          "base_uri": "https://localhost:8080/",
          "height": 295
        }
      },
      "source": [
        "sad = []\n",
        "\n",
        "for i in range(2, 21):\n",
        "    kmeans = KMeans(n_clusters = i, init = 'k-means++', max_iter = 300, n_init = 10, random_state = 0)\n",
        "    kmeans.fit(x)\n",
        "    sad.append(kmeans.score(x))\n",
        "plt.plot(range(2,21),sad)\n",
        "plt.title('The elbow method')\n",
        "plt.xlabel('Number of clusters')\n",
        "plt.ylabel('sad')\n",
        "plt.show()\n"
      ],
      "execution_count": 18,
      "outputs": [
        {
          "output_type": "display_data",
          "data": {
            "image/png": "[encoded data removed]",
            "text/plain": [
              "<Figure size 432x288 with 1 Axes>"
            ]
          },
          "metadata": {
            "tags": []
          }
        }
      ]
    },
    {
      "cell_type": "markdown",
      "metadata": {
        "id": "0WlISNH4Nmmy",
        "colab_type": "text"
      },
      "source": [
        "**From the graph we conclude the optimal value of cluster is 5.**"
      ]
    },
    {
      "cell_type": "markdown",
      "metadata": {
        "id": "YKGNs09hNxTi",
        "colab_type": "text"
      },
      "source": [
        "# **Clustering**"
      ]
    },
    {
      "cell_type": "code",
      "metadata": {
        "id": "I_kFA3RuLkWc",
        "colab_type": "code",
        "outputId": "dec1ec25-4da2-4f46-a01b-bd0558db93e3",
        "colab": {
          "base_uri": "https://localhost:8080/",
          "height": 34
        }
      },
      "source": [
        "kmeans = KMeans(n_clusters = 5, init = 'k-means++', max_iter = 300, n_init = 10, random_state = 0)\n",
        "y_kmeans = kmeans.fit_predict(x)\n",
        "y_kmeans"
      ],
      "execution_count": 19,
      "outputs": [
        {
          "output_type": "execute_result",
          "data": {
            "text/plain": [
              "array([0, 0, 0, ..., 0, 0, 0], dtype=int32)"
            ]
          },
          "metadata": {
            "tags": []
          },
          "execution_count": 19
        }
      ]
    },
    {
      "cell_type": "code",
      "metadata": {
        "id": "_UHWtBN3fhSn",
        "colab_type": "code",
        "outputId": "b4dcff46-4df0-4512-9513-86b9167dc5ca",
        "colab": {
          "base_uri": "https://localhost:8080/",
          "height": 185
        }
      },
      "source": [
        "cen=kmeans.cluster_centers_\n",
        "cen"
      ],
      "execution_count": 20,
      "outputs": [
        {
          "output_type": "execute_result",
          "data": {
            "text/plain": [
              "array([[ 3.69554669e+01, -8.34571730e+01,  6.65292392e+01,\n",
              "         2.10569783e+01,  9.82416377e-01],\n",
              "       [ 3.81806303e+01, -5.86763014e+01,  6.15861538e+04,\n",
              "         1.16538077e+04,  3.36388462e+03],\n",
              "       [ 3.79080957e+01, -4.13530463e+01,  2.73353947e+04,\n",
              "         3.55421053e+03,  1.27202632e+03],\n",
              "       [ 3.57702507e+01, -4.41110093e+01,  6.76567600e+04,\n",
              "         5.01468000e+04,  3.03312000e+03],\n",
              "       [ 3.99777866e+01, -5.32610223e+01,  9.06375000e+03,\n",
              "         8.66416667e+02,  2.56395833e+02]])"
            ]
          },
          "metadata": {
            "tags": []
          },
          "execution_count": 20
        }
      ]
    },
    {
      "cell_type": "markdown",
      "metadata": {
        "id": "c0GKZFtoM48w",
        "colab_type": "text"
      },
      "source": [
        "# Graph 1:confirmed Vs deaths"
      ]
    },
    {
      "cell_type": "code",
      "metadata": {
        "id": "n9J98ADpDbNO",
        "colab_type": "code",
        "outputId": "45f1bb72-f4f2-4f32-adfe-7bcc8f2a1760",
        "colab": {
          "base_uri": "https://localhost:8080/",
          "height": 295
        }
      },
      "source": [
        "plt.scatter(x[y_kmeans == 0, 2], x[y_kmeans == 0, 4], s = 80, c = 'red', label = 'Cluster 1')\n",
        "plt.scatter(x[y_kmeans == 1, 2], x[y_kmeans == 1, 4], s = 80, c = 'blue', label = 'Cluster 2')\n",
        "plt.scatter(x[y_kmeans == 2, 2], x[y_kmeans == 2, 4], s = 80, c = 'green', label = 'Cluster 3')\n",
        "plt.scatter(x[y_kmeans == 3, 2], x[y_kmeans == 3, 4], s = 80, c = 'cyan', label = 'Cluster 4')\n",
        "plt.scatter(x[y_kmeans == 4, 2], x[y_kmeans == 4, 4], s = 80, c = 'magenta', label = 'Cluster 5')\n",
        "plt.scatter(kmeans.cluster_centers_[:, 2], kmeans.cluster_centers_[:, 4], s =40, c = 'yellow', label = 'Centroids')\n",
        "plt.title('Clusters of covid19')\n",
        "plt.xlabel(\"confirmed\")\n",
        "plt.ylabel('Deaths')\n",
        "plt.legend()\n",
        "plt.show()\n"
      ],
      "execution_count": 21,
      "outputs": [
        {
          "output_type": "display_data",
          "data": {
            "image/png": "[encoded data removed]",
            "text/plain": [
              "<Figure size 432x288 with 1 Axes>"
            ]
          },
          "metadata": {
            "tags": []
          }
        }
      ]
    },
    {
      "cell_type": "markdown",
      "metadata": {
        "id": "XRNOLn2PNJBM",
        "colab_type": "text"
      },
      "source": [
        "# **Graph 2:Confirmed Vs recovered**"
      ]
    },
    {
      "cell_type": "code",
      "metadata": {
        "id": "WWpQZz0jEK4n",
        "colab_type": "code",
        "outputId": "bd4e5f4b-116b-4138-ecf0-8c8cdcdd1168",
        "colab": {
          "base_uri": "https://localhost:8080/",
          "height": 295
        }
      },
      "source": [
        "plt.scatter(x[y_kmeans == 0, 2], x[y_kmeans == 0, 3], s = 100, c = 'red', label = 'Cluster 1')\n",
        "plt.scatter(x[y_kmeans == 1, 2], x[y_kmeans == 1, 3], s = 100, c = 'blue', label = 'Cluster 2')\n",
        "plt.scatter(x[y_kmeans == 2, 2], x[y_kmeans == 2, 3], s = 100, c = 'green', label = 'Cluster 3')\n",
        "plt.scatter(x[y_kmeans == 3, 2], x[y_kmeans == 3, 3], s = 100, c = 'cyan', label = 'Cluster 4')\n",
        "plt.scatter(x[y_kmeans == 4, 2], x[y_kmeans == 4, 3], s = 100, c = 'magenta', label = 'Cluster 5')\n",
        "plt.scatter(kmeans.cluster_centers_[:, 2], kmeans.cluster_centers_[:, 3], s = 30, c = 'yellow', label = 'Centroids')\n",
        "plt.title('Clusters of covid19')\n",
        "plt.xlabel('confirmed')\n",
        "plt.ylabel('recovered')\n",
        "plt.legend()\n",
        "plt.show()\n"
      ],
      "execution_count": 22,
      "outputs": [
        {
          "output_type": "display_data",
          "data": {
            "image/png": "[encoded data removed]",
            "text/plain": [
              "<Figure size 432x288 with 1 Axes>"
            ]
          },
          "metadata": {
            "tags": []
          }
        }
      ]
    },
    {
      "cell_type": "markdown",
      "metadata": {
        "id": "Z3ENVr83NWdc",
        "colab_type": "text"
      },
      "source": [
        "# **Graph 3:Recovered Vs Deaths**"
      ]
    },
    {
      "cell_type": "code",
      "metadata": {
        "id": "xDov1KjH_hah",
        "colab_type": "code",
        "outputId": "3c2b68b0-fde2-43f0-eeb9-6dc3cee4ddae",
        "colab": {
          "base_uri": "https://localhost:8080/",
          "height": 295
        }
      },
      "source": [
        "plt.scatter(x[y_kmeans == 0, 3], x[y_kmeans == 0, 4], s = 100, c = 'red', label = 'Cluster 1')\n",
        "plt.scatter(x[y_kmeans == 1, 3], x[y_kmeans == 1, 4], s = 100, c = 'blue', label = 'Cluster 2')\n",
        "plt.scatter(x[y_kmeans == 2, 3], x[y_kmeans == 2, 4], s = 100, c = 'green', label = 'Cluster 3')\n",
        "plt.scatter(x[y_kmeans == 3, 3], x[y_kmeans == 3, 4], s = 100, c = 'cyan', label = 'Cluster 4')\n",
        "plt.scatter(x[y_kmeans == 4, 3], x[y_kmeans == 4, 4], s = 100, c = 'magenta', label = 'Cluster 5')\n",
        "plt.scatter(kmeans.cluster_centers_[:, 3], kmeans.cluster_centers_[:, 4], s = 30, c = 'yellow', label = 'Centroids')\n",
        "plt.title('Clusters of covid19')\n",
        "plt.xlabel('Recovered')\n",
        "plt.ylabel('Deaths')\n",
        "plt.legend()\n",
        "plt.show()\n"
      ],
      "execution_count": 23,
      "outputs": [
        {
          "output_type": "display_data",
          "data": {
            "image/png": "[encoded data removed]",
            "text/plain": [
              "<Figure size 432x288 with 1 Axes>"
            ]
          },
          "metadata": {
            "tags": []
          }
        }
      ]
    },
    {
      "cell_type": "markdown",
      "metadata": {
        "id": "2beGh5fhNjOc",
        "colab_type": "text"
      },
      "source": [
        "# **Plotting clusters on world map**"
      ]
    },
    {
      "cell_type": "markdown",
      "metadata": {
        "id": "tvxv3ZN3f39H",
        "colab_type": "text"
      },
      "source": [
        "# Observations:\n",
        "\n",
        "1.   List item\n",
        "\n",
        "1.   List item\n",
        "\n",
        "1.   List item\n",
        "\n",
        "1.   List item\n",
        "2.   List item\n",
        "\n",
        "\n",
        "2.   List item\n",
        "\n",
        "\n",
        "2.   List item\n",
        "\n",
        "\n",
        "2.   List item\n",
        "\n"
      ]
    },
    {
      "cell_type": "code",
      "metadata": {
        "id": "u5vUBtftkRtG",
        "colab_type": "code",
        "colab": {}
      },
      "source": [
        ""
      ],
      "execution_count": 0,
      "outputs": []
    }
  ]
}